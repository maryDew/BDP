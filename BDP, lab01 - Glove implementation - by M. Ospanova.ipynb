{
 "cells": [
  {
   "cell_type": "markdown",
   "metadata": {},
   "source": [
    "## Lab01: Word2Vec, Glove, PCA visualization\n",
    "\n",
    "Course: Big data processing\n",
    "\n",
    "Student: Maryam Ospanova (ML&DS, PhD)\n",
    "______________________________________________________________________________"
   ]
  },
  {
   "cell_type": "markdown",
   "metadata": {},
   "source": [
    "### Word2Vec implementation"
   ]
  },
  {
   "cell_type": "markdown",
   "metadata": {},
   "source": [
    "Description of the considered text"
   ]
  },
  {
   "cell_type": "code",
   "execution_count": 1,
   "metadata": {},
   "outputs": [],
   "source": [
    "corpus = [    \n",
    "    \"You can treat lists of a list as matrix in Python. However, there is a better way of working Python matrices using NumPy package.\"\n",
    "    \"In Python, list is a type of container in Data Structures, which is used to store multiple data at the same time. Unlike Sets, the list in Python are ordered and have a definite count.\"\n",
    "]"
   ]
  },
  {
   "cell_type": "markdown",
   "metadata": {},
   "source": [
    "Processing of the text"
   ]
  },
  {
   "cell_type": "code",
   "execution_count": 2,
   "metadata": {},
   "outputs": [],
   "source": [
    "tokens = []\n",
    "for i in range (len(corpus)):\n",
    "    sents = corpus[i].split(\".\")    \n",
    "    for j in range(len(sents)):\n",
    "        tokens = tokens + sents[j].lower().split(\" \")"
   ]
  },
  {
   "cell_type": "markdown",
   "metadata": {},
   "source": [
    "Collecting the unique entries of the text"
   ]
  },
  {
   "cell_type": "code",
   "execution_count": 3,
   "metadata": {},
   "outputs": [
    {
     "data": {
      "text/plain": [
       "['', 'multiple', 'of', 'as', 'you', 'store', 'and', 'numpy', 'ordered', 'in']"
      ]
     },
     "execution_count": 3,
     "metadata": {},
     "output_type": "execute_result"
    }
   ],
   "source": [
    "my_dict = list(set(tokens))   \n",
    "my_dict[:10]"
   ]
  },
  {
   "cell_type": "markdown",
   "metadata": {},
   "source": [
    "Description of the functions to get a Word by an Index, and vice versa"
   ]
  },
  {
   "cell_type": "code",
   "execution_count": 4,
   "metadata": {},
   "outputs": [],
   "source": [
    "def word2idx(token):\n",
    "    index = my_dict.index(token)\n",
    "    return index\n",
    "def idx2word(index):\n",
    "    word = my_dict[index]\n",
    "    return word"
   ]
  },
  {
   "cell_type": "code",
   "execution_count": 5,
   "metadata": {},
   "outputs": [
    {
     "data": {
      "text/plain": [
       "5"
      ]
     },
     "execution_count": 5,
     "metadata": {},
     "output_type": "execute_result"
    }
   ],
   "source": [
    "word2idx(\"store\")"
   ]
  },
  {
   "cell_type": "code",
   "execution_count": 6,
   "metadata": {},
   "outputs": [
    {
     "data": {
      "text/plain": [
       "'as'"
      ]
     },
     "execution_count": 6,
     "metadata": {},
     "output_type": "execute_result"
    }
   ],
   "source": [
    "idx2word(3)"
   ]
  },
  {
   "cell_type": "markdown",
   "metadata": {},
   "source": [
    "Co-occurance matrix calculation"
   ]
  },
  {
   "cell_type": "code",
   "execution_count": 7,
   "metadata": {},
   "outputs": [
    {
     "name": "stdout",
     "output_type": "stream",
     "text": [
      "you can\n",
      "can treat\n",
      "treat lists\n",
      "lists of\n",
      "of a\n",
      "a list\n",
      "list as\n",
      "as matrix\n",
      "matrix in\n",
      "in python\n",
      "python \n",
      " however,\n",
      "however, there\n",
      "there is\n",
      "is a\n",
      "a better\n",
      "better way\n",
      "way of\n",
      "of working\n",
      "working python\n",
      "python matrices\n",
      "matrices using\n",
      "using numpy\n",
      "numpy package\n",
      "package in\n",
      "in python,\n",
      "python, list\n",
      "list is\n",
      "is a\n",
      "a type\n",
      "type of\n",
      "of container\n",
      "container in\n",
      "in data\n",
      "data structures,\n",
      "structures, which\n",
      "which is\n",
      "is used\n",
      "used to\n",
      "to store\n",
      "store multiple\n",
      "multiple data\n",
      "data at\n",
      "at the\n",
      "the same\n",
      "same time\n",
      "time \n",
      " unlike\n",
      "unlike sets,\n",
      "sets, the\n",
      "the list\n",
      "list in\n",
      "in python\n",
      "python are\n",
      "are ordered\n",
      "ordered and\n",
      "and have\n",
      "have a\n",
      "a definite\n",
      "definite count\n",
      "count \n"
     ]
    }
   ],
   "source": [
    "import numpy as np\n",
    "n = len(my_dict)\n",
    "\n",
    "coMatrix = np.zeros((n,n))\n",
    "\n",
    "for idx in range (len(tokens)-1):\n",
    "    ind2 = word2idx(tokens[idx+1])\n",
    "    ind1 = word2idx(tokens[idx])\n",
    "    print(tokens[idx],tokens[idx+1])\n",
    "    coMatrix[ind1,ind2] +=1"
   ]
  },
  {
   "cell_type": "code",
   "execution_count": 8,
   "metadata": {},
   "outputs": [
    {
     "data": {
      "text/plain": [
       "array([[0., 0., 0., 0., 0., 0., 0., 0., 0., 0.],\n",
       "       [0., 0., 0., 0., 0., 0., 0., 0., 0., 0.],\n",
       "       [0., 0., 0., 0., 0., 0., 0., 0., 0., 0.],\n",
       "       [0., 0., 0., 0., 0., 0., 0., 0., 0., 0.],\n",
       "       [0., 0., 0., 0., 0., 0., 0., 0., 0., 0.],\n",
       "       [0., 1., 0., 0., 0., 0., 0., 0., 0., 0.],\n",
       "       [0., 0., 0., 0., 0., 0., 0., 0., 0., 0.],\n",
       "       [0., 0., 0., 0., 0., 0., 0., 0., 0., 0.],\n",
       "       [0., 0., 0., 0., 0., 0., 1., 0., 0., 0.],\n",
       "       [0., 0., 0., 0., 0., 0., 0., 0., 0., 0.]])"
      ]
     },
     "execution_count": 8,
     "metadata": {},
     "output_type": "execute_result"
    }
   ],
   "source": [
    "coMatrix[:10, :10]"
   ]
  },
  {
   "cell_type": "markdown",
   "metadata": {},
   "source": [
    "_______________________________________________"
   ]
  },
  {
   "cell_type": "markdown",
   "metadata": {},
   "source": [
    "### PCA visualization"
   ]
  },
  {
   "cell_type": "markdown",
   "metadata": {},
   "source": [
    "Importing modules and attributes:"
   ]
  },
  {
   "cell_type": "code",
   "execution_count": 9,
   "metadata": {},
   "outputs": [],
   "source": [
    "import matplotlib.pyplot as plt\n",
    "from sklearn.decomposition import PCA"
   ]
  },
  {
   "cell_type": "code",
   "execution_count": 10,
   "metadata": {},
   "outputs": [],
   "source": [
    "def return_matrix(random_words,dim =20):\n",
    "    word_matrix = np.random.randn(len(random_words),dim)\n",
    "    i = 0\n",
    "    for word in random_words:\n",
    "        word_matrix[i] = word2idx(word)\n",
    "        i +=1\n",
    "    return word_matrix\n",
    "        #print(word_matrix[i])"
   ]
  },
  {
   "cell_type": "code",
   "execution_count": 11,
   "metadata": {},
   "outputs": [
    {
     "data": {
      "text/plain": [
       "array([[35., 35., 35., 35., 35., 35., 35., 35., 35., 35.],\n",
       "       [19., 19., 19., 19., 19., 19., 19., 19., 19., 19.],\n",
       "       [11., 11., 11., 11., 11., 11., 11., 11., 11., 11.],\n",
       "       [17., 17., 17., 17., 17., 17., 17., 17., 17., 17.],\n",
       "       [23., 23., 23., 23., 23., 23., 23., 23., 23., 23.],\n",
       "       [30., 30., 30., 30., 30., 30., 30., 30., 30., 30.],\n",
       "       [33., 33., 33., 33., 33., 33., 33., 33., 33., 33.],\n",
       "       [20., 20., 20., 20., 20., 20., 20., 20., 20., 20.],\n",
       "       [21., 21., 21., 21., 21., 21., 21., 21., 21., 21.],\n",
       "       [42., 42., 42., 42., 42., 42., 42., 42., 42., 42.]])"
      ]
     },
     "execution_count": 11,
     "metadata": {},
     "output_type": "execute_result"
    }
   ],
   "source": [
    "random_words = ['list', 'a', 'the', 'python', 'container', 'package', 'which', 'is', 'used', 'to', 'store', 'multiple', 'data', 'at', 'the', 'same']\n",
    "matrix = return_matrix(random_words, 20)\n",
    "matrix[:10,:10]"
   ]
  },
  {
   "cell_type": "code",
   "execution_count": 12,
   "metadata": {},
   "outputs": [],
   "source": [
    "pca_ = PCA(n_components = 2)   #x and y axis\n",
    "data = pca_.fit_transform(matrix) "
   ]
  },
  {
   "cell_type": "code",
   "execution_count": 13,
   "metadata": {},
   "outputs": [
    {
     "data": {
      "image/png": "[encoded data removed]",
      "text/plain": [
       "<Figure size 432x288 with 1 Axes>"
      ]
     },
     "metadata": {
      "needs_background": "light"
     },
     "output_type": "display_data"
    }
   ],
   "source": [
    "plt.title('PCA visualization')\n",
    "plt.xlim(-45,45)\n",
    "plt.ylim(-10,10)\n",
    "plt.xlabel('Comp #1')\n",
    "plt.ylabel('Comp #2')\n",
    "\n",
    "plt.scatter(data[:,0], data[:,1], cmap='Bl')\n",
    "for label, x, y in zip(random_words, data[:,0], data[:,1]):\n",
    "    plt.annotate(label, xy=(x,y), xytext=(x,y+10), textcoords='offset points', arrowprops=dict(arrowstyle = '->'))"
   ]
  },
  {
   "cell_type": "code",
   "execution_count": null,
   "metadata": {},
   "outputs": [],
   "source": []
  }
 ],
 "metadata": {
  "kernelspec": {
   "display_name": "Python 3",
   "language": "python",
   "name": "python3"
  },
  "language_info": {
   "codemirror_mode": {
    "name": "ipython",
    "version": 3
   },
   "file_extension": ".py",
   "mimetype": "text/x-python",
   "name": "python",
   "nbconvert_exporter": "python",
   "pygments_lexer": "ipython3",
   "version": "3.7.3"
  }
 },
 "nbformat": 4,
 "nbformat_minor": 2
}
