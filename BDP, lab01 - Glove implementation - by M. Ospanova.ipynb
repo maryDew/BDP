{
 "cells": [
  {
   "cell_type": "markdown",
   "metadata": {},
   "source": [
    "## Lab01: Word2Vec, Glove, PCA visualization\n",
    "\n",
    "Course: Big data processing\n",
    "\n",
    "Student: Maryam Ospanova (ML&DS, PhD)\n",
    "______________________________________________________________________________"
   ]
  },
  {
   "cell_type": "markdown",
   "metadata": {},
   "source": [
    "### Word2Vec implementation"
   ]
  },
  {
   "cell_type": "markdown",
   "metadata": {},
   "source": [
    "Description of the considered text"
   ]
  },
  {
   "cell_type": "code",
   "execution_count": 1,
   "metadata": {},
   "outputs": [],
   "source": [
    "corpus = [    \n",
    "    \"You can treat lists of a list as matrix in Python. However, there is a better way of working Python matrices using NumPy package.\"\n",
    "    \"In Python, list is a type of container in Data Structures, which is used to store multiple data at the same time. Unlike Sets, the list in Python are ordered and have a definite count.\"\n",
    "]"
   ]
  },
  {
   "cell_type": "markdown",
   "metadata": {},
   "source": [
    "Processing of the text"
   ]
  },
  {
   "cell_type": "code",
   "execution_count": 2,
   "metadata": {},
   "outputs": [],
   "source": [
    "tokens = []\n",
    "for i in range (len(corpus)):\n",
    "    sents = corpus[i].split(\".\")    \n",
    "    for j in range(len(sents)):\n",
    "        tokens = tokens + sents[j].lower().split(\" \")"
   ]
  },
  {
   "cell_type": "markdown",
   "metadata": {},
   "source": [
    "Collecting the unique entries of the text"
   ]
  },
  {
   "cell_type": "code",
   "execution_count": 3,
   "metadata": {},
   "outputs": [
    {
     "data": {
      "text/plain": [
       "['',\n",
       " 'using',\n",
       " 'package',\n",
       " 'unlike',\n",
       " 'ordered',\n",
       " 'there',\n",
       " 'time',\n",
       " 'sets,',\n",
       " 'python',\n",
       " 'in']"
      ]
     },
     "execution_count": 3,
     "metadata": {},
     "output_type": "execute_result"
    }
   ],
   "source": [
    "my_dict = list(set(tokens))   \n",
    "my_dict[:10]"
   ]
  },
  {
   "cell_type": "markdown",
   "metadata": {},
   "source": [
    "Description of the functions to get a Word by an Index, and vice versa"
   ]
  },
  {
   "cell_type": "code",
   "execution_count": 4,
   "metadata": {},
   "outputs": [],
   "source": [
    "def word2idx(token):\n",
    "    index = my_dict.index(token)\n",
    "    return index\n",
    "def idx2word(index):\n",
    "    word = my_dict[index]\n",
    "    return word"
   ]
  },
  {
   "cell_type": "code",
   "execution_count": 5,
   "metadata": {},
   "outputs": [
    {
     "data": {
      "text/plain": [
       "21"
      ]
     },
     "execution_count": 5,
     "metadata": {},
     "output_type": "execute_result"
    }
   ],
   "source": [
    "word2idx(\"store\")"
   ]
  },
  {
   "cell_type": "code",
   "execution_count": 6,
   "metadata": {},
   "outputs": [
    {
     "data": {
      "text/plain": [
       "'unlike'"
      ]
     },
     "execution_count": 6,
     "metadata": {},
     "output_type": "execute_result"
    }
   ],
   "source": [
    "idx2word(3)"
   ]
  },
  {
   "cell_type": "markdown",
   "metadata": {},
   "source": [
    "Co-occurance matrix calculation"
   ]
  },
  {
   "cell_type": "code",
   "execution_count": 7,
   "metadata": {},
   "outputs": [
    {
     "name": "stdout",
     "output_type": "stream",
     "text": [
      "you can\n",
      "can treat\n",
      "treat lists\n",
      "lists of\n",
      "of a\n",
      "a list\n",
      "list as\n",
      "as matrix\n",
      "matrix in\n",
      "in python\n",
      "python \n",
      " however,\n",
      "however, there\n",
      "there is\n",
      "is a\n",
      "a better\n",
      "better way\n",
      "way of\n",
      "of working\n",
      "working python\n",
      "python matrices\n",
      "matrices using\n",
      "using numpy\n",
      "numpy package\n",
      "package in\n",
      "in python,\n",
      "python, list\n",
      "list is\n",
      "is a\n",
      "a type\n",
      "type of\n",
      "of container\n",
      "container in\n",
      "in data\n",
      "data structures,\n",
      "structures, which\n",
      "which is\n",
      "is used\n",
      "used to\n",
      "to store\n",
      "store multiple\n",
      "multiple data\n",
      "data at\n",
      "at the\n",
      "the same\n",
      "same time\n",
      "time \n",
      " unlike\n",
      "unlike sets,\n",
      "sets, the\n",
      "the list\n",
      "list in\n",
      "in python\n",
      "python are\n",
      "are ordered\n",
      "ordered and\n",
      "and have\n",
      "have a\n",
      "a definite\n",
      "definite count\n",
      "count \n"
     ]
    }
   ],
   "source": [
    "import numpy as np\n",
    "n = len(my_dict)\n",
    "\n",
    "coMatrix = np.zeros((n,n))\n",
    "\n",
    "for idx in range (len(tokens)-1):\n",
    "    ind2 = word2idx(tokens[idx+1])\n",
    "    ind1 = word2idx(tokens[idx])\n",
    "    print(tokens[idx],tokens[idx+1])\n",
    "    coMatrix[ind1,ind2] +=1"
   ]
  },
  {
   "cell_type": "code",
   "execution_count": 8,
   "metadata": {},
   "outputs": [
    {
     "data": {
      "text/plain": [
       "array([[0., 0., 0., 1., 0., 0., 0., 0., 0., 0.],\n",
       "       [0., 0., 0., 0., 0., 0., 0., 0., 0., 0.],\n",
       "       [0., 0., 0., 0., 0., 0., 0., 0., 0., 1.],\n",
       "       [0., 0., 0., 0., 0., 0., 0., 1., 0., 0.],\n",
       "       [0., 0., 0., 0., 0., 0., 0., 0., 0., 0.],\n",
       "       [0., 0., 0., 0., 0., 0., 0., 0., 0., 0.],\n",
       "       [1., 0., 0., 0., 0., 0., 0., 0., 0., 0.],\n",
       "       [0., 0., 0., 0., 0., 0., 0., 0., 0., 0.],\n",
       "       [1., 0., 0., 0., 0., 0., 0., 0., 0., 0.],\n",
       "       [0., 0., 0., 0., 0., 0., 0., 0., 2., 0.]])"
      ]
     },
     "execution_count": 8,
     "metadata": {},
     "output_type": "execute_result"
    }
   ],
   "source": [
    "coMatrix[:10, :10]"
   ]
  },
  {
   "cell_type": "code",
   "execution_count": 9,
   "metadata": {},
   "outputs": [
    {
     "data": {
      "text/plain": [
       "array([[2., 0., 0., 0., 0., 0., 0., 0., 0., 0.],\n",
       "       [0., 1., 0., 0., 0., 0., 0., 0., 0., 0.],\n",
       "       [0., 0., 1., 0., 0., 0., 0., 0., 0., 0.],\n",
       "       [0., 0., 0., 1., 0., 0., 0., 0., 0., 0.],\n",
       "       [0., 0., 0., 0., 1., 0., 0., 0., 0., 0.],\n",
       "       [0., 0., 0., 0., 0., 1., 0., 0., 0., 0.],\n",
       "       [0., 0., 0., 0., 0., 0., 1., 0., 1., 0.],\n",
       "       [0., 0., 0., 0., 0., 0., 0., 1., 0., 0.],\n",
       "       [0., 0., 0., 0., 0., 0., 1., 0., 3., 0.],\n",
       "       [0., 0., 0., 0., 0., 0., 0., 0., 0., 6.]])"
      ]
     },
     "execution_count": 9,
     "metadata": {},
     "output_type": "execute_result"
    }
   ],
   "source": [
    "coMatrix_update = np.dot(coMatrix,coMatrix.T)\n",
    "coMatrix_update[:10,:10]"
   ]
  },
  {
   "cell_type": "markdown",
   "metadata": {},
   "source": [
    "_______________________________________________"
   ]
  },
  {
   "cell_type": "markdown",
   "metadata": {},
   "source": [
    "### PCA visualization"
   ]
  },
  {
   "cell_type": "markdown",
   "metadata": {},
   "source": [
    "Importing modules and attributes:"
   ]
  },
  {
   "cell_type": "code",
   "execution_count": 10,
   "metadata": {},
   "outputs": [],
   "source": [
    "import matplotlib.pyplot as plt\n",
    "from sklearn.decomposition import PCA"
   ]
  },
  {
   "cell_type": "code",
   "execution_count": 11,
   "metadata": {},
   "outputs": [],
   "source": [
    "def calc_matrix(random_words,dim =20):\n",
    "    word_matrix = np.random.randn(len(random_words),dim)\n",
    "    i = 0\n",
    "    for word in random_words:\n",
    "        word_matrix[i] = word2idx(word)\n",
    "        i +=1\n",
    "    return word_matrix"
   ]
  },
  {
   "cell_type": "code",
   "execution_count": 12,
   "metadata": {},
   "outputs": [
    {
     "data": {
      "text/plain": [
       "array([[19., 19., 19., 19., 19., 19., 19., 19., 19., 19.],\n",
       "       [12., 12., 12., 12., 12., 12., 12., 12., 12., 12.],\n",
       "       [24., 24., 24., 24., 24., 24., 24., 24., 24., 24.],\n",
       "       [ 8.,  8.,  8.,  8.,  8.,  8.,  8.,  8.,  8.,  8.],\n",
       "       [22., 22., 22., 22., 22., 22., 22., 22., 22., 22.],\n",
       "       [ 2.,  2.,  2.,  2.,  2.,  2.,  2.,  2.,  2.,  2.],\n",
       "       [34., 34., 34., 34., 34., 34., 34., 34., 34., 34.],\n",
       "       [18., 18., 18., 18., 18., 18., 18., 18., 18., 18.],\n",
       "       [43., 43., 43., 43., 43., 43., 43., 43., 43., 43.],\n",
       "       [15., 15., 15., 15., 15., 15., 15., 15., 15., 15.]])"
      ]
     },
     "execution_count": 12,
     "metadata": {},
     "output_type": "execute_result"
    }
   ],
   "source": [
    "random_words = ['list', 'a', 'the', 'python', 'container', 'package', 'which', 'is', 'used', 'to', 'store', 'multiple', 'data', 'at', 'the', 'same']\n",
    "matrix = calc_matrix(random_words, 20)\n",
    "matrix[:10,:10]"
   ]
  },
  {
   "cell_type": "code",
   "execution_count": 13,
   "metadata": {},
   "outputs": [],
   "source": [
    "pca_ = PCA(n_components = 2)   #x and y axis\n",
    "data = pca_.fit_transform(matrix) "
   ]
  },
  {
   "cell_type": "code",
   "execution_count": 14,
   "metadata": {},
   "outputs": [
    {
     "data": {
      "text/plain": [
       "array([[-1.31368994e+01,  2.36242710e-15],\n",
       "       [-4.44418511e+01,  3.03671722e-14],\n",
       "       [ 9.22378041e+00, -4.27723449e-15],\n",
       "       [-6.23303949e+01,  8.44199045e-15],\n",
       "       [ 2.79508497e-01, -1.44369233e-16],\n",
       "       [-8.91632106e+01, -1.75202682e-14],\n",
       "       [ 5.39451400e+01, -8.33114850e-15],\n",
       "       [-1.76090353e+01,  7.85083340e-15],\n",
       "       [ 9.41943636e+01,  1.32984547e-14],\n",
       "       [-3.10254432e+01,  2.60345167e-14],\n",
       "       [-4.19262746e+00,  1.78679945e-15],\n",
       "       [ 1.81680523e+01, -2.40157552e-16],\n",
       "       [ 4.50008680e+01,  8.40831631e-15],\n",
       "       [ 4.75164445e+00,  6.29740955e-16],\n",
       "       [ 9.22378041e+00, -4.27723449e-15],\n",
       "       [ 2.71123242e+01,  7.25967635e-15]])"
      ]
     },
     "execution_count": 14,
     "metadata": {},
     "output_type": "execute_result"
    }
   ],
   "source": [
    "data"
   ]
  },
  {
   "cell_type": "code",
   "execution_count": 15,
   "metadata": {},
   "outputs": [
    {
     "data": {
      "image/png": "[encoded data removed]",
      "text/plain": [
       "<Figure size 432x288 with 1 Axes>"
      ]
     },
     "metadata": {
      "needs_background": "light"
     },
     "output_type": "display_data"
    }
   ],
   "source": [
    "plt.title('PCA visualization')\n",
    "plt.xlim(-100,100)\n",
    "plt.ylim(-(1e-13),1e-13)\n",
    "plt.xlabel('Comp #1')\n",
    "plt.ylabel('Comp #2')\n",
    "\n",
    "plt.scatter(data[:,0], data[:,1], cmap='Bl')\n",
    "for label, x, y in zip(random_words, data[:,0], data[:,1]):\n",
    "    plt.annotate(label, xy=(x,y), xytext=(-15,15), textcoords='offset points', arrowprops=dict(arrowstyle = '->'))"
   ]
  }
 ],
 "metadata": {
  "kernelspec": {
   "display_name": "Python 3",
   "language": "python",
   "name": "python3"
  },
  "language_info": {
   "codemirror_mode": {
    "name": "ipython",
    "version": 3
   },
   "file_extension": ".py",
   "mimetype": "text/x-python",
   "name": "python",
   "nbconvert_exporter": "python",
   "pygments_lexer": "ipython3",
   "version": "3.7.3"
  }
 },
 "nbformat": 4,
 "nbformat_minor": 2
}
