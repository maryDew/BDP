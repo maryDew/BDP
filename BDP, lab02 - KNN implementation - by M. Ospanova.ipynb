{
 "cells": [
  {
   "cell_type": "markdown",
   "metadata": {},
   "source": [
    "## Lab02: k-Nearest Neighbors Algorithm implementation\n",
    "\n",
    "Course: Big data processing\n",
    "\n",
    "Student: Maryam Ospanova (ML&DS, PhD)\n",
    "______________________________________________________________________________"
   ]
  },
  {
   "cell_type": "markdown",
   "metadata": {},
   "source": [
    "Importing modules and attributes:"
   ]
  },
  {
   "cell_type": "code",
   "execution_count": 1,
   "metadata": {},
   "outputs": [],
   "source": [
    "import numpy as np\n",
    "import matplotlib.pyplot as plt\n",
    "from sklearn import datasets\n",
    "from sklearn.model_selection import train_test_split\n",
    "from collections import Counter\n",
    "from sklearn.metrics import accuracy_score, confusion_matrix, classification_report"
   ]
  },
  {
   "cell_type": "markdown",
   "metadata": {},
   "source": [
    "Description of Global variables:"
   ]
  },
  {
   "cell_type": "code",
   "execution_count": 2,
   "metadata": {},
   "outputs": [],
   "source": [
    "k = 3   #k-factor of KNN"
   ]
  },
  {
   "cell_type": "markdown",
   "metadata": {},
   "source": [
    "Loading dataset:"
   ]
  },
  {
   "cell_type": "code",
   "execution_count": 3,
   "metadata": {},
   "outputs": [],
   "source": [
    "data = datasets.load_iris()\n",
    "X = data.data[:,:4]            \n",
    "y = data.target"
   ]
  },
  {
   "cell_type": "markdown",
   "metadata": {},
   "source": [
    "Preprocessing:"
   ]
  },
  {
   "cell_type": "code",
   "execution_count": 4,
   "metadata": {},
   "outputs": [],
   "source": [
    "X_train, X_test, y_train, y_test = train_test_split(X, y)   #creation of training and test splits"
   ]
  },
  {
   "cell_type": "markdown",
   "metadata": {},
   "source": [
    "Description of KNN methods:"
   ]
  },
  {
   "cell_type": "code",
   "execution_count": 5,
   "metadata": {},
   "outputs": [],
   "source": [
    "class KNN():\n",
    "    def _init_():\n",
    "        self.X_train, self.Y_train = []\n",
    "    \n",
    "    def fit(self, X_train, Y_train):   #fits the model using X_train as training data and y_train as target values\n",
    "        self.X_train = X_train\n",
    "        self.Y_train = Y_train\n",
    "\n",
    "    def predict(self, X_test, k):      #predicts the class labels for the provided data\n",
    "        predictions = []\n",
    "        for instance in X_test:\n",
    "            predictions.append(self.getNeighborsVote(instance,k))\n",
    "        return predictions\n",
    "    \n",
    "    def euclideanDistance(self, instance1, instance2): #calculates the Euclidean distance between train and test points\n",
    "        distance = 0.0\n",
    "        for i in range(len(instance1)-1):\n",
    "            distance += np.power((instance1[i] - instance2[i]),2)\n",
    "        distance = np.sqrt(distance)\n",
    "        return distance\n",
    "\n",
    "    def getNeighborsVote(self, instance, k):  #finds the k-neighbors of a point\n",
    "        distances = []   #stores the distances between the considered instance to all train points\n",
    "        k_labels = []    #stores target values of k-neighbors points\n",
    "        \n",
    "        for i in range(len(self.X_train)):\n",
    "            distances.append((i, self.euclideanDistance(instance, self.X_train[i])))\n",
    "        distances.sort(key=lambda  distance:distance[1])      #ascending sort by distance values           \n",
    "        \n",
    "        for i in range(k):\n",
    "            k_labels.append(self.Y_train[distances[i][0]])\n",
    "            \n",
    "        NeighborsVote = Counter(k_labels).most_common()[0][0] #most frequently encountered input values\n",
    "        return NeighborsVote"
   ]
  },
  {
   "cell_type": "markdown",
   "metadata": {},
   "source": [
    "Invoking KNN methods:"
   ]
  },
  {
   "cell_type": "code",
   "execution_count": 6,
   "metadata": {},
   "outputs": [],
   "source": [
    "model = KNN()\n",
    "model.fit(X_train, y_train)\n",
    "y_pred = model.predict(X_test, k)"
   ]
  },
  {
   "cell_type": "markdown",
   "metadata": {},
   "source": [
    "Evaluation of KNN algorithm:"
   ]
  },
  {
   "cell_type": "code",
   "execution_count": 7,
   "metadata": {},
   "outputs": [
    {
     "name": "stdout",
     "output_type": "stream",
     "text": [
      "Accuracy: 0.9210526315789473\n",
      "\n",
      "Confusion matrix:\n",
      " [[11  0  0]\n",
      " [ 0 12  0]\n",
      " [ 0  3 12]]\n",
      "\n",
      "Classification report:\n",
      "               precision    recall  f1-score   support\n",
      "\n",
      "           0       1.00      1.00      1.00        11\n",
      "           1       0.80      1.00      0.89        12\n",
      "           2       1.00      0.80      0.89        15\n",
      "\n",
      "    accuracy                           0.92        38\n",
      "   macro avg       0.93      0.93      0.93        38\n",
      "weighted avg       0.94      0.92      0.92        38\n",
      "\n"
     ]
    }
   ],
   "source": [
    "print(\"Accuracy:\", accuracy_score(y_test, y_pred))\n",
    "print(\"\\nConfusion matrix:\\n\", confusion_matrix(y_test, y_pred))\n",
    "print(\"\\nClassification report:\\n\", classification_report(y_test, y_pred))"
   ]
  },
  {
   "cell_type": "markdown",
   "metadata": {},
   "source": [
    "Ploting data:"
   ]
  },
  {
   "cell_type": "code",
   "execution_count": 8,
   "metadata": {},
   "outputs": [
    {
     "data": {
      "text/plain": [
       "<matplotlib.collections.PathCollection at 0x266b4459908>"
      ]
     },
     "execution_count": 8,
     "metadata": {},
     "output_type": "execute_result"
    },
    {
     "data": {
      "image/png": "[encoded data removed]",
      "text/plain": [
       "<Figure size 432x288 with 1 Axes>"
      ]
     },
     "metadata": {
      "needs_background": "light"
     },
     "output_type": "display_data"
    }
   ],
   "source": [
    "w#Indentifing boundaries of the plot:\n",
    "x_values = np.arange(X[:, 0].min()-0.5, X[:, 0].max()+0.5, 0.02)\n",
    "y_values = np.arange(X[:, 1].min()-0.5, X[:, 1].max()+0.5, 0.02)\n",
    "xx, yy = np.meshgrid(x_values,y_values) #coordinate matrix\n",
    "\n",
    "plt.figure()\n",
    "plt.title(\"Iris data classification by k-Nearest Neighbors Algorithm\")\n",
    "plt.xlabel(data.feature_names[0])\n",
    "plt.ylabel(data.feature_names[1])\n",
    "plt.xlim(xx.min(), xx.max())\n",
    "plt.ylim(yy.min(), yy.max())\n",
    "\n",
    "plt.scatter(X_test[:, 0], X_test[:, 1], X_test[:, 2], c=y_pred, marker=\"o\", edgecolors=\"k\" , alpha=1, cmap='RdYlGn')\n",
    "plt.scatter(X_train[:, 0], X_train[:, 1], X_train[:, 2], c=y_train, marker=\"^\",edgecolors=\"k\", alpha=1, cmap='RdYlGn')"
   ]
  },
  {
   "cell_type": "code",
   "execution_count": null,
   "metadata": {},
   "outputs": [],
   "source": []
  }
 ],
 "metadata": {
  "kernelspec": {
   "display_name": "Python 3",
   "language": "python",
   "name": "python3"
  },
  "language_info": {
   "codemirror_mode": {
    "name": "ipython",
    "version": 3
   },
   "file_extension": ".py",
   "mimetype": "text/x-python",
   "name": "python",
   "nbconvert_exporter": "python",
   "pygments_lexer": "ipython3",
   "version": "3.7.3"
  }
 },
 "nbformat": 4,
 "nbformat_minor": 2
}
